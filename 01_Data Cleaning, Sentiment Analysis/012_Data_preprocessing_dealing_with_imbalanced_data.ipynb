{
 "cells": [
  {
   "cell_type": "markdown",
   "id": "7655c205-bc48-4542-9385-812651f6be8f",
   "metadata": {
    "tags": []
   },
   "source": [
    "# Quintuple Sentiment Categories\n",
    "\n",
    "### Integration of VADER labels with FinBERT training\n",
    "\n",
    "The analysis follows a systematic approach of :\n",
    "\n",
    "1. data preprocessing,\n",
    "2. dealing with imbalanced data\n",
    "3. splitting of dataset into df_train, df_val\n"
   ]
  },
  {
   "cell_type": "code",
   "execution_count": null,
   "id": "f143bfd1-d0af-481f-97a7-97df03af66b0",
   "metadata": {},
   "outputs": [],
   "source": [
    "#from google.colab import drive\n",
    "from nltk.corpus import stopwords\n",
    "from nltk.tokenize import word_tokenize\n",
    "import pandas as pd\n",
    "import folium\n",
    "import math\n",
    "import numpy as np\n",
    "import re\n",
    "import seaborn as sns\n",
    "#from google.colab import files\n",
    "from textblob import TextBlob\n",
    "import nltk\n",
    "import matplotlib.pyplot as plt\n",
    "nltk.download('punkt')\n",
    "pd.set_option('display.max_colwidth', None)\n",
    "from tqdm import tqdm"
   ]
  },
  {
   "cell_type": "code",
   "execution_count": 5,
   "id": "e7c93bc1-d360-4a1e-bf01-5bc0f10550ba",
   "metadata": {
    "tags": []
   },
   "outputs": [],
   "source": [
    "## Visualization\n",
    "import matplotlib.pyplot as plt\n",
    "import seaborn as sns\n",
    "import plotly\n",
    "import plotly.express as px\n",
    "import plotly.graph_objects as go\n",
    "from wordcloud import WordCloud\n",
    "\n",
    "## NLP\n",
    "from nltk.corpus import stopwords\n",
    "from nltk.tokenize import word_tokenize\n",
    "from nltk.stem import WordNetLemmatizer\n",
    "from nltk.tokenize import TweetTokenizer\n",
    "#from gensim.summarization import keywords\n",
    "from vaderSentiment.vaderSentiment import SentimentIntensityAnalyzer\n",
    "\n",
    "#from tensorflow.keras.preprocessing.text import Tokenizer\n",
    "\n",
    "## Deeplearning/ML\n",
    "from sklearn.model_selection import train_test_split\n",
    "from sklearn import svm, tree\n",
    "from sklearn.ensemble import RandomForestClassifier, GradientBoostingClassifier, AdaBoostClassifier, ExtraTreesClassifier\n",
    "from sklearn.metrics import f1_score, accuracy_score, precision_score, recall_score, roc_curve, roc_auc_score, fbeta_score, jaccard_score, log_loss, classification_report\n",
    "from sklearn.neighbors import KNeighborsClassifier\n",
    "from sklearn.model_selection import RandomizedSearchCV\n",
    "\n",
    "from sklearn.metrics import accuracy_score, precision_score, recall_score\n",
    "from sklearn.metrics import f1_score, mean_squared_error\n",
    "from sklearn.metrics import classification_report\n",
    "from sklearn.metrics import confusion_matrix, ConfusionMatrixDisplay\n",
    "from yellowbrick.classifier import ROCAUC, ConfusionMatrix, PrecisionRecallCurve"
   ]
  },
  {
   "cell_type": "markdown",
   "id": "2caee0d9-fd0a-4de2-822d-410759bfb6bb",
   "metadata": {},
   "source": [
    "## 1. data preprocessing\n",
    "\n",
    "Simple EDA performed"
   ]
  },
  {
   "cell_type": "code",
   "execution_count": 10,
   "id": "9a8881e7-6c72-43cf-8011-3fd467e73e87",
   "metadata": {
    "tags": []
   },
   "outputs": [],
   "source": [
    "raw_df = pd.read_csv('Combined_FAANG_percentage_2.2.csv')"
   ]
  },
  {
   "cell_type": "code",
   "execution_count": 11,
   "id": "59148c89-c388-46ac-a398-891d18e7c3d8",
   "metadata": {
    "tags": []
   },
   "outputs": [],
   "source": [
    "hundred_lines = raw_df.head(100)"
   ]
  },
  {
   "cell_type": "code",
   "execution_count": 12,
   "id": "03cfc827-bb6e-41f6-871b-6ea0b38fe1b2",
   "metadata": {
    "tags": []
   },
   "outputs": [],
   "source": [
    "hundred_lines.to_csv('Data_Text Mining of Stocktwits_2009_to_2019_hundred_lines.csv')"
   ]
  },
  {
   "cell_type": "code",
   "execution_count": 87,
   "id": "643d01d8-eaed-4993-a87f-c27fda5c0d31",
   "metadata": {
    "tags": []
   },
   "outputs": [
    {
     "data": {
      "text/html": [
       "<div>\n",
       "<style scoped>\n",
       "    .dataframe tbody tr th:only-of-type {\n",
       "        vertical-align: middle;\n",
       "    }\n",
       "\n",
       "    .dataframe tbody tr th {\n",
       "        vertical-align: top;\n",
       "    }\n",
       "\n",
       "    .dataframe thead th {\n",
       "        text-align: right;\n",
       "    }\n",
       "</style>\n",
       "<table border=\"1\" class=\"dataframe\">\n",
       "  <thead>\n",
       "    <tr style=\"text-align: right;\">\n",
       "      <th></th>\n",
       "      <th>symbol</th>\n",
       "      <th>message</th>\n",
       "      <th>datetime</th>\n",
       "      <th>user</th>\n",
       "      <th>message_id</th>\n",
       "      <th>Date</th>\n",
       "      <th>Time</th>\n",
       "      <th>label</th>\n",
       "    </tr>\n",
       "  </thead>\n",
       "  <tbody>\n",
       "    <tr>\n",
       "      <th>658149</th>\n",
       "      <td>AAPL</td>\n",
       "      <td>amzn aapl nvda hope work otherwise 401k turn 101k bah dum chee</td>\n",
       "      <td>2016-12-31 23:44:47</td>\n",
       "      <td>786342</td>\n",
       "      <td>70629996</td>\n",
       "      <td>2016-12-31</td>\n",
       "      <td>23:44:47</td>\n",
       "      <td>0</td>\n",
       "    </tr>\n",
       "    <tr>\n",
       "      <th>658150</th>\n",
       "      <td>AAPL</td>\n",
       "      <td>aapl apple confirms removal home button iphones coming 2017 appleinsider</td>\n",
       "      <td>2016-12-31 23:43:20</td>\n",
       "      <td>4553</td>\n",
       "      <td>70629981</td>\n",
       "      <td>2016-12-31</td>\n",
       "      <td>23:43:20</td>\n",
       "      <td>0</td>\n",
       "    </tr>\n",
       "    <tr>\n",
       "      <th>658151</th>\n",
       "      <td>AAPL</td>\n",
       "      <td>aapl</td>\n",
       "      <td>2016-12-31 23:39:54</td>\n",
       "      <td>116603</td>\n",
       "      <td>70629921</td>\n",
       "      <td>2016-12-31</td>\n",
       "      <td>23:39:54</td>\n",
       "      <td>0</td>\n",
       "    </tr>\n",
       "    <tr>\n",
       "      <th>658152</th>\n",
       "      <td>AAPL</td>\n",
       "      <td>aapl best wishes 2017</td>\n",
       "      <td>2016-12-31 23:37:51</td>\n",
       "      <td>422677</td>\n",
       "      <td>70629899</td>\n",
       "      <td>2016-12-31</td>\n",
       "      <td>23:37:51</td>\n",
       "      <td>0</td>\n",
       "    </tr>\n",
       "    <tr>\n",
       "      <th>658153</th>\n",
       "      <td>AAPL</td>\n",
       "      <td>aapl bottrigger trend signal issued formal buy alert aapl although publication advanced buy sign</td>\n",
       "      <td>2016-12-31 23:20:30</td>\n",
       "      <td>783862</td>\n",
       "      <td>70629704</td>\n",
       "      <td>2016-12-31</td>\n",
       "      <td>23:20:30</td>\n",
       "      <td>0</td>\n",
       "    </tr>\n",
       "  </tbody>\n",
       "</table>\n",
       "</div>"
      ],
      "text/plain": [
       "       symbol  \\\n",
       "658149   AAPL   \n",
       "658150   AAPL   \n",
       "658151   AAPL   \n",
       "658152   AAPL   \n",
       "658153   AAPL   \n",
       "\n",
       "                                                                                                 message  \\\n",
       "658149                                    amzn aapl nvda hope work otherwise 401k turn 101k bah dum chee   \n",
       "658150                          aapl apple confirms removal home button iphones coming 2017 appleinsider   \n",
       "658151                                                                                              aapl   \n",
       "658152                                                                             aapl best wishes 2017   \n",
       "658153  aapl bottrigger trend signal issued formal buy alert aapl although publication advanced buy sign   \n",
       "\n",
       "                   datetime    user  message_id       Date      Time  label  \n",
       "658149  2016-12-31 23:44:47  786342    70629996 2016-12-31  23:44:47      0  \n",
       "658150  2016-12-31 23:43:20    4553    70629981 2016-12-31  23:43:20      0  \n",
       "658151  2016-12-31 23:39:54  116603    70629921 2016-12-31  23:39:54      0  \n",
       "658152  2016-12-31 23:37:51  422677    70629899 2016-12-31  23:37:51      0  \n",
       "658153  2016-12-31 23:20:30  783862    70629704 2016-12-31  23:20:30      0  "
      ]
     },
     "execution_count": 87,
     "metadata": {},
     "output_type": "execute_result"
    }
   ],
   "source": [
    "# Define date range to remove\n",
    "start_date = '2017-01-01'\n",
    "end_date = '2020-12-31'\n",
    "\n",
    "\n",
    "# Convert the 'date' column to datetime\n",
    "raw_df['Date'] = pd.to_datetime(raw_df['Date'])\n",
    "\n",
    "# Convert strings to datetime\n",
    "start_date = pd.to_datetime(start_date)\n",
    "end_date = pd.to_datetime(end_date)\n",
    "\n",
    "# Remove rows within the specified date range, end data will be from 01 Jan 2009 to 31 Dec 2014\n",
    "df = raw_df[~((raw_df['Date'] >= start_date) & (raw_df['Date'] <= end_date))]\n",
    "\n",
    "df.head()"
   ]
  },
  {
   "cell_type": "code",
   "execution_count": 56,
   "id": "0ed4f2bf-96b8-4d3e-8f5c-720bebad5c6f",
   "metadata": {
    "tags": []
   },
   "outputs": [
    {
     "data": {
      "text/plain": [
       "symbol        False\n",
       "message       False\n",
       "datetime      False\n",
       "user          False\n",
       "message_id    False\n",
       "Date          False\n",
       "Time          False\n",
       "label         False\n",
       "dtype: bool"
      ]
     },
     "execution_count": 56,
     "metadata": {},
     "output_type": "execute_result"
    }
   ],
   "source": [
    "### Test to see if data during period 01 Jul to 30 Sep has been removed\n",
    "column_name='Date'\n",
    "\n",
    "### Will show up as true if its in df\n",
    "df[(df[column_name] >= start_date) & (df[column_name] <= end_date)].any()"
   ]
  },
  {
   "cell_type": "code",
   "execution_count": 57,
   "id": "9d6139c8-bd97-4d71-8fb2-403769ddcea4",
   "metadata": {
    "tags": []
   },
   "outputs": [
    {
     "data": {
      "text/plain": [
       "symbol        0\n",
       "message       0\n",
       "datetime      0\n",
       "user          0\n",
       "message_id    0\n",
       "Date          0\n",
       "Time          0\n",
       "label         0\n",
       "dtype: int64"
      ]
     },
     "execution_count": 57,
     "metadata": {},
     "output_type": "execute_result"
    }
   ],
   "source": [
    "df.isna().sum()"
   ]
  },
  {
   "cell_type": "code",
   "execution_count": 58,
   "id": "f5ea0109-4bc0-4681-a729-dfef63634aa7",
   "metadata": {
    "tags": []
   },
   "outputs": [],
   "source": [
    "df2 = df.copy()"
   ]
  },
  {
   "cell_type": "markdown",
   "id": "729e5201-b02b-40a3-b1ac-88f3788ab4d4",
   "metadata": {},
   "source": [
    "Creation of sentimental polarity function and polarity score for each tweet\n"
   ]
  },
  {
   "cell_type": "code",
   "execution_count": 59,
   "id": "b5b45fb4-6d23-45d4-94c7-4fc6b0d225a2",
   "metadata": {
    "tags": []
   },
   "outputs": [],
   "source": [
    "## Creating sentimental polarity function for polarity score\n",
    "analyzer = SentimentIntensityAnalyzer()\n",
    "def compound_score(txt):\n",
    "    return analyzer.polarity_scores(txt)[\"compound\"]\n",
    "\n",
    "## Sentiments - words\n",
    "def sentiment(score):\n",
    "    emotion = \"\"\n",
    "    if score >= 0.5:\n",
    "        emotion = \"Positive\"\n",
    "    elif score <= -0.5:\n",
    "        emotion = \"Negative\"\n",
    "    else:\n",
    "        emotion = \"Neutral\"\n",
    "    return emotion"
   ]
  },
  {
   "cell_type": "code",
   "execution_count": 60,
   "id": "8fbbfd56-5e6b-4205-b0fd-4eab62f9ea9f",
   "metadata": {
    "tags": []
   },
   "outputs": [],
   "source": [
    "## Applying Compund score\n",
    "polarity_scores = df2[\"message\"].astype(\"str\").apply(compound_score)\n",
    "df2[\"Sentiment_Score\"] = polarity_scores\n",
    "\n",
    "## Applying Sentiment\n",
    "df2[\"Sentiment\"] = df2[\"Sentiment_Score\"].apply(sentiment)"
   ]
  },
  {
   "cell_type": "code",
   "execution_count": 61,
   "id": "ba736098-9c63-480e-b85e-5e4db8cda5a1",
   "metadata": {
    "tags": []
   },
   "outputs": [],
   "source": [
    "### this is done to bin it according to intervals\n",
    "\n",
    "def normalize_score(original_score):\n",
    "    \"\"\"Normalize sentiment score from range [-1, 1] to [0, 5].\"\"\"\n",
    "    #### this formula is to put it into a norminal scale\n",
    "    normalized_score = ((original_score + 1) / 2) * 5\n",
    "    ### following rounding up is to bin them into 0.25ssss\n",
    "    return round(normalized_score* 4) / 4 #round(normalized_score* 2) / 2\n",
    "\n",
    "df2['normalized_Sentiment_score'] = df2['Sentiment_Score'].apply(normalize_score)"
   ]
  },
  {
   "cell_type": "code",
   "execution_count": 62,
   "id": "40216e06-0595-4a68-b1b1-bde2950715ca",
   "metadata": {
    "tags": []
   },
   "outputs": [
    {
     "data": {
      "text/plain": [
       "symbol                        0\n",
       "message                       0\n",
       "datetime                      0\n",
       "user                          0\n",
       "message_id                    0\n",
       "Date                          0\n",
       "Time                          0\n",
       "label                         0\n",
       "Sentiment_Score               0\n",
       "Sentiment                     0\n",
       "normalized_Sentiment_score    0\n",
       "dtype: int64"
      ]
     },
     "execution_count": 62,
     "metadata": {},
     "output_type": "execute_result"
    }
   ],
   "source": [
    "df2.isna().sum()"
   ]
  },
  {
   "cell_type": "code",
   "execution_count": 63,
   "id": "1f6f5bac-75a1-4930-afe6-0a43e450fe3e",
   "metadata": {
    "tags": []
   },
   "outputs": [],
   "source": [
    "import pickle\n",
    "\n",
    "# Path to your Google Drive\n",
    "\n",
    "\n",
    "# Serialize the data structures to a file in your Google Drive\n",
    "#with open('011223_message_with_Normalised_Sentiment_Score', 'wb') as file:\n",
    "#    pickle.dump(df2, file)\n"
   ]
  },
  {
   "cell_type": "code",
   "execution_count": 64,
   "id": "9aabccdd-afed-411b-83e2-27535e8b6a3c",
   "metadata": {
    "tags": []
   },
   "outputs": [],
   "source": [
    "import pickle\n",
    "\n",
    "with open('011223_message_with_Normalised_Sentiment_Score', 'rb') as file:\n",
    "    df2 = pickle.load(file)"
   ]
  },
  {
   "cell_type": "code",
   "execution_count": 65,
   "id": "27c7534f-c03a-4c8b-b5a4-b12b162fbded",
   "metadata": {
    "tags": []
   },
   "outputs": [
    {
     "data": {
      "text/html": [
       "<div>\n",
       "<style scoped>\n",
       "    .dataframe tbody tr th:only-of-type {\n",
       "        vertical-align: middle;\n",
       "    }\n",
       "\n",
       "    .dataframe tbody tr th {\n",
       "        vertical-align: top;\n",
       "    }\n",
       "\n",
       "    .dataframe thead th {\n",
       "        text-align: right;\n",
       "    }\n",
       "</style>\n",
       "<table border=\"1\" class=\"dataframe\">\n",
       "  <thead>\n",
       "    <tr style=\"text-align: right;\">\n",
       "      <th></th>\n",
       "      <th>symbol</th>\n",
       "      <th>message</th>\n",
       "      <th>datetime</th>\n",
       "      <th>user</th>\n",
       "      <th>message_id</th>\n",
       "      <th>Date</th>\n",
       "      <th>Time</th>\n",
       "      <th>label</th>\n",
       "      <th>Sentiment_Score</th>\n",
       "      <th>Sentiment</th>\n",
       "      <th>normalized_Sentiment_score</th>\n",
       "    </tr>\n",
       "  </thead>\n",
       "  <tbody>\n",
       "    <tr>\n",
       "      <th>658149</th>\n",
       "      <td>AAPL</td>\n",
       "      <td>amzn aapl nvda hope work otherwise 401k turn 101k bah dum chee</td>\n",
       "      <td>2016-12-31 23:44:47</td>\n",
       "      <td>786342</td>\n",
       "      <td>70629996</td>\n",
       "      <td>2016-12-31</td>\n",
       "      <td>23:44:47</td>\n",
       "      <td>0</td>\n",
       "      <td>0.4404</td>\n",
       "      <td>Neutral</td>\n",
       "      <td>3.50</td>\n",
       "    </tr>\n",
       "    <tr>\n",
       "      <th>658150</th>\n",
       "      <td>AAPL</td>\n",
       "      <td>aapl apple confirms removal home button iphones coming 2017 appleinsider</td>\n",
       "      <td>2016-12-31 23:43:20</td>\n",
       "      <td>4553</td>\n",
       "      <td>70629981</td>\n",
       "      <td>2016-12-31</td>\n",
       "      <td>23:43:20</td>\n",
       "      <td>0</td>\n",
       "      <td>0.0000</td>\n",
       "      <td>Neutral</td>\n",
       "      <td>2.50</td>\n",
       "    </tr>\n",
       "    <tr>\n",
       "      <th>658151</th>\n",
       "      <td>AAPL</td>\n",
       "      <td>aapl</td>\n",
       "      <td>2016-12-31 23:39:54</td>\n",
       "      <td>116603</td>\n",
       "      <td>70629921</td>\n",
       "      <td>2016-12-31</td>\n",
       "      <td>23:39:54</td>\n",
       "      <td>0</td>\n",
       "      <td>0.0000</td>\n",
       "      <td>Neutral</td>\n",
       "      <td>2.50</td>\n",
       "    </tr>\n",
       "    <tr>\n",
       "      <th>658152</th>\n",
       "      <td>AAPL</td>\n",
       "      <td>aapl best wishes 2017</td>\n",
       "      <td>2016-12-31 23:37:51</td>\n",
       "      <td>422677</td>\n",
       "      <td>70629899</td>\n",
       "      <td>2016-12-31</td>\n",
       "      <td>23:37:51</td>\n",
       "      <td>0</td>\n",
       "      <td>0.7003</td>\n",
       "      <td>Positive</td>\n",
       "      <td>4.25</td>\n",
       "    </tr>\n",
       "    <tr>\n",
       "      <th>658153</th>\n",
       "      <td>AAPL</td>\n",
       "      <td>aapl bottrigger trend signal issued formal buy alert aapl although publication advanced buy sign</td>\n",
       "      <td>2016-12-31 23:20:30</td>\n",
       "      <td>783862</td>\n",
       "      <td>70629704</td>\n",
       "      <td>2016-12-31</td>\n",
       "      <td>23:20:30</td>\n",
       "      <td>0</td>\n",
       "      <td>0.4939</td>\n",
       "      <td>Neutral</td>\n",
       "      <td>3.75</td>\n",
       "    </tr>\n",
       "  </tbody>\n",
       "</table>\n",
       "</div>"
      ],
      "text/plain": [
       "       symbol  \\\n",
       "658149   AAPL   \n",
       "658150   AAPL   \n",
       "658151   AAPL   \n",
       "658152   AAPL   \n",
       "658153   AAPL   \n",
       "\n",
       "                                                                                                 message  \\\n",
       "658149                                    amzn aapl nvda hope work otherwise 401k turn 101k bah dum chee   \n",
       "658150                          aapl apple confirms removal home button iphones coming 2017 appleinsider   \n",
       "658151                                                                                              aapl   \n",
       "658152                                                                             aapl best wishes 2017   \n",
       "658153  aapl bottrigger trend signal issued formal buy alert aapl although publication advanced buy sign   \n",
       "\n",
       "                   datetime    user  message_id       Date      Time  label  \\\n",
       "658149  2016-12-31 23:44:47  786342    70629996 2016-12-31  23:44:47      0   \n",
       "658150  2016-12-31 23:43:20    4553    70629981 2016-12-31  23:43:20      0   \n",
       "658151  2016-12-31 23:39:54  116603    70629921 2016-12-31  23:39:54      0   \n",
       "658152  2016-12-31 23:37:51  422677    70629899 2016-12-31  23:37:51      0   \n",
       "658153  2016-12-31 23:20:30  783862    70629704 2016-12-31  23:20:30      0   \n",
       "\n",
       "        Sentiment_Score Sentiment  normalized_Sentiment_score  \n",
       "658149           0.4404   Neutral                        3.50  \n",
       "658150           0.0000   Neutral                        2.50  \n",
       "658151           0.0000   Neutral                        2.50  \n",
       "658152           0.7003  Positive                        4.25  \n",
       "658153           0.4939   Neutral                        3.75  "
      ]
     },
     "execution_count": 65,
     "metadata": {},
     "output_type": "execute_result"
    }
   ],
   "source": [
    "df2.head()"
   ]
  },
  {
   "cell_type": "code",
   "execution_count": 66,
   "id": "59fdc561-7c73-48f3-81f2-7c4f21fec517",
   "metadata": {
    "tags": []
   },
   "outputs": [
    {
     "data": {
      "text/plain": [
       "Index(['symbol', 'message', 'datetime', 'user', 'message_id', 'Date', 'Time',\n",
       "       'label', 'Sentiment_Score', 'Sentiment', 'normalized_Sentiment_score'],\n",
       "      dtype='object')"
      ]
     },
     "execution_count": 66,
     "metadata": {},
     "output_type": "execute_result"
    }
   ],
   "source": [
    "## what are the column labels we have in the df\n",
    "df2.columns"
   ]
  },
  {
   "cell_type": "code",
   "execution_count": 67,
   "id": "1c6e2728-c52d-4df5-b109-368ddae673c5",
   "metadata": {
    "tags": []
   },
   "outputs": [
    {
     "data": {
      "text/plain": [
       "array([3.5 , 2.5 , 4.25, 3.75, 1.75, 1.25, 4.5 , 3.25, 2.25, 4.  , 4.75,\n",
       "       1.  , 2.75, 2.  , 1.5 , 3.  , 0.75, 0.5 , 5.  , 0.25, 0.  ])"
      ]
     },
     "execution_count": 67,
     "metadata": {},
     "output_type": "execute_result"
    }
   ],
   "source": [
    "### a quick check to see the binning has been performed correctly\n",
    "df2['normalized_Sentiment_score'].unique()"
   ]
  },
  {
   "cell_type": "code",
   "execution_count": 68,
   "id": "fe11cb43-3a7e-4d96-90a9-d84135e644ee",
   "metadata": {
    "tags": []
   },
   "outputs": [
    {
     "data": {
      "text/plain": [
       "2.50    445101\n",
       "3.50    115981\n",
       "4.00     62538\n",
       "3.25     55149\n",
       "3.75     49022\n",
       "1.75     44204\n",
       "3.00     42929\n",
       "1.25     40977\n",
       "4.25     38593\n",
       "1.50     36979\n",
       "4.50     31633\n",
       "2.00     30284\n",
       "2.25     25524\n",
       "2.75     24941\n",
       "1.00     22070\n",
       "0.75     14476\n",
       "4.75     10848\n",
       "0.50      8634\n",
       "0.25      2101\n",
       "5.00       201\n",
       "0.00        54\n",
       "Name: normalized_Sentiment_score, dtype: int64"
      ]
     },
     "execution_count": 68,
     "metadata": {},
     "output_type": "execute_result"
    }
   ],
   "source": [
    "### model is imbalanced, need to trim it down.\n",
    "df2[\"normalized_Sentiment_score\"].value_counts(normalize=False)"
   ]
  },
  {
   "cell_type": "code",
   "execution_count": 69,
   "id": "2c515d93-f583-4f21-93ba-c532c73d9372",
   "metadata": {
    "tags": []
   },
   "outputs": [
    {
     "data": {
      "text/html": [
       "<div>\n",
       "<style scoped>\n",
       "    .dataframe tbody tr th:only-of-type {\n",
       "        vertical-align: middle;\n",
       "    }\n",
       "\n",
       "    .dataframe tbody tr th {\n",
       "        vertical-align: top;\n",
       "    }\n",
       "\n",
       "    .dataframe thead th {\n",
       "        text-align: right;\n",
       "    }\n",
       "</style>\n",
       "<table border=\"1\" class=\"dataframe\">\n",
       "  <thead>\n",
       "    <tr style=\"text-align: right;\">\n",
       "      <th></th>\n",
       "      <th>normalized_Sentiment_score</th>\n",
       "    </tr>\n",
       "    <tr>\n",
       "      <th>index</th>\n",
       "      <th></th>\n",
       "    </tr>\n",
       "  </thead>\n",
       "  <tbody>\n",
       "    <tr>\n",
       "      <th>0.00</th>\n",
       "      <td>54</td>\n",
       "    </tr>\n",
       "    <tr>\n",
       "      <th>0.25</th>\n",
       "      <td>2101</td>\n",
       "    </tr>\n",
       "    <tr>\n",
       "      <th>0.50</th>\n",
       "      <td>8634</td>\n",
       "    </tr>\n",
       "    <tr>\n",
       "      <th>0.75</th>\n",
       "      <td>14476</td>\n",
       "    </tr>\n",
       "    <tr>\n",
       "      <th>1.00</th>\n",
       "      <td>22070</td>\n",
       "    </tr>\n",
       "    <tr>\n",
       "      <th>1.25</th>\n",
       "      <td>40977</td>\n",
       "    </tr>\n",
       "    <tr>\n",
       "      <th>1.50</th>\n",
       "      <td>36979</td>\n",
       "    </tr>\n",
       "    <tr>\n",
       "      <th>1.75</th>\n",
       "      <td>44204</td>\n",
       "    </tr>\n",
       "    <tr>\n",
       "      <th>2.00</th>\n",
       "      <td>30284</td>\n",
       "    </tr>\n",
       "    <tr>\n",
       "      <th>2.25</th>\n",
       "      <td>25524</td>\n",
       "    </tr>\n",
       "    <tr>\n",
       "      <th>2.50</th>\n",
       "      <td>445101</td>\n",
       "    </tr>\n",
       "    <tr>\n",
       "      <th>2.75</th>\n",
       "      <td>24941</td>\n",
       "    </tr>\n",
       "    <tr>\n",
       "      <th>3.00</th>\n",
       "      <td>42929</td>\n",
       "    </tr>\n",
       "    <tr>\n",
       "      <th>3.25</th>\n",
       "      <td>55149</td>\n",
       "    </tr>\n",
       "    <tr>\n",
       "      <th>3.50</th>\n",
       "      <td>115981</td>\n",
       "    </tr>\n",
       "    <tr>\n",
       "      <th>3.75</th>\n",
       "      <td>49022</td>\n",
       "    </tr>\n",
       "    <tr>\n",
       "      <th>4.00</th>\n",
       "      <td>62538</td>\n",
       "    </tr>\n",
       "    <tr>\n",
       "      <th>4.25</th>\n",
       "      <td>38593</td>\n",
       "    </tr>\n",
       "    <tr>\n",
       "      <th>4.50</th>\n",
       "      <td>31633</td>\n",
       "    </tr>\n",
       "    <tr>\n",
       "      <th>4.75</th>\n",
       "      <td>10848</td>\n",
       "    </tr>\n",
       "    <tr>\n",
       "      <th>5.00</th>\n",
       "      <td>201</td>\n",
       "    </tr>\n",
       "  </tbody>\n",
       "</table>\n",
       "</div>"
      ],
      "text/plain": [
       "       normalized_Sentiment_score\n",
       "index                            \n",
       "0.00                           54\n",
       "0.25                         2101\n",
       "0.50                         8634\n",
       "0.75                        14476\n",
       "1.00                        22070\n",
       "1.25                        40977\n",
       "1.50                        36979\n",
       "1.75                        44204\n",
       "2.00                        30284\n",
       "2.25                        25524\n",
       "2.50                       445101\n",
       "2.75                        24941\n",
       "3.00                        42929\n",
       "3.25                        55149\n",
       "3.50                       115981\n",
       "3.75                        49022\n",
       "4.00                        62538\n",
       "4.25                        38593\n",
       "4.50                        31633\n",
       "4.75                        10848\n",
       "5.00                          201"
      ]
     },
     "execution_count": 69,
     "metadata": {},
     "output_type": "execute_result"
    }
   ],
   "source": [
    "# Reset the index to make the sentiment scores a column\n",
    "df2_counts = df2[\"normalized_Sentiment_score\"].value_counts(normalize=False).reset_index()\n",
    "\n",
    "# Sort by the sentiment scores, now a column named 'index'\n",
    "df2_sorted = df2_counts.sort_values(by='index', ascending=True)  # Use ascending=False to sort in descending order\n",
    "\n",
    "# If you want the sentiment score to again be the index\n",
    "df2_sorted.set_index('index')"
   ]
  },
  {
   "cell_type": "code",
   "execution_count": 70,
   "id": "19121d1a-8878-4597-aa3d-81c1abc8b289",
   "metadata": {
    "tags": []
   },
   "outputs": [],
   "source": [
    "def plot_labels(df, title=None, label = \"normalized_Sentiment_score\"):\n",
    "\n",
    "    ds_labels = df[label].value_counts(normalize=True)\n",
    "    ds_labels.sort_index(inplace=True)\n",
    "    plt.figure(figsize=(6,3))\n",
    "    ax = ds_labels.plot(kind=\"bar\")\n",
    "    ax.set_xlabel(label)\n",
    "    ax.set_ylabel(\"Ratio\")\n",
    "    if title is not None:\n",
    "        plt.savefig(title + \".eps\")\n",
    "    plt.show()"
   ]
  },
  {
   "cell_type": "code",
   "execution_count": 71,
   "id": "ba81a3d7-8d3d-48da-add9-f61274c840e5",
   "metadata": {
    "tags": []
   },
   "outputs": [
    {
     "data": {
      "image/png": "[encoded data removed]",
      "text/plain": [
       "<Figure size 600x300 with 1 Axes>"
      ]
     },
     "metadata": {},
     "output_type": "display_data"
    }
   ],
   "source": [
    "plot_labels(df2, label = \"normalized_Sentiment_score\")"
   ]
  },
  {
   "cell_type": "markdown",
   "id": "95dbfdf0-e6aa-4658-b8c9-e190b257c93f",
   "metadata": {},
   "source": [
    "2.2 Functions to produce normalized sentiment score and rating score\n",
    "\n",
    "Bins the data on 0.25 intervals. Anything from 1.0 is considered bad, will be labelled as 0. In order to bring data from continuous to labels"
   ]
  },
  {
   "cell_type": "code",
   "execution_count": 72,
   "id": "9bc6de69-a1fa-4984-9fb5-03bbaeefdf06",
   "metadata": {
    "tags": []
   },
   "outputs": [],
   "source": [
    "### this is when the labelling starts\n",
    "\n",
    "\n",
    "def label_score(row):\n",
    "    score = row['normalized_Sentiment_score']\n",
    "    if score < 1.5:\n",
    "        return 0\n",
    "    elif score >= 1.5 and score < 2.5:\n",
    "        return 1\n",
    "    elif score == 2.5:\n",
    "        return 2\n",
    "    elif score >= 2.75 and score < 4.0:\n",
    "        return 3\n",
    "    else:  # for 4.0 and lower\n",
    "        return 4\n",
    "\n",
    "df2['label'] = df2.apply(label_score, axis=1)\n"
   ]
  },
  {
   "cell_type": "code",
   "execution_count": 73,
   "id": "89d723ef-d990-4549-8849-a06d71abab07",
   "metadata": {
    "tags": []
   },
   "outputs": [
    {
     "data": {
      "text/html": [
       "<div>\n",
       "<style scoped>\n",
       "    .dataframe tbody tr th:only-of-type {\n",
       "        vertical-align: middle;\n",
       "    }\n",
       "\n",
       "    .dataframe tbody tr th {\n",
       "        vertical-align: top;\n",
       "    }\n",
       "\n",
       "    .dataframe thead th {\n",
       "        text-align: right;\n",
       "    }\n",
       "</style>\n",
       "<table border=\"1\" class=\"dataframe\">\n",
       "  <thead>\n",
       "    <tr style=\"text-align: right;\">\n",
       "      <th></th>\n",
       "      <th>user</th>\n",
       "      <th>message_id</th>\n",
       "      <th>label</th>\n",
       "      <th>Sentiment_Score</th>\n",
       "      <th>normalized_Sentiment_score</th>\n",
       "    </tr>\n",
       "  </thead>\n",
       "  <tbody>\n",
       "    <tr>\n",
       "      <th>count</th>\n",
       "      <td>1.102239e+06</td>\n",
       "      <td>1.102239e+06</td>\n",
       "      <td>1.102239e+06</td>\n",
       "      <td>1.102239e+06</td>\n",
       "      <td>1.102239e+06</td>\n",
       "    </tr>\n",
       "    <tr>\n",
       "      <th>mean</th>\n",
       "      <td>2.584895e+05</td>\n",
       "      <td>3.395174e+07</td>\n",
       "      <td>2.237728e+00</td>\n",
       "      <td>9.941479e-02</td>\n",
       "      <td>2.747130e+00</td>\n",
       "    </tr>\n",
       "    <tr>\n",
       "      <th>std</th>\n",
       "      <td>1.985429e+05</td>\n",
       "      <td>1.870664e+07</td>\n",
       "      <td>1.082337e+00</td>\n",
       "      <td>3.587670e-01</td>\n",
       "      <td>8.959103e-01</td>\n",
       "    </tr>\n",
       "    <tr>\n",
       "      <th>min</th>\n",
       "      <td>2.000000e+00</td>\n",
       "      <td>4.074870e+05</td>\n",
       "      <td>0.000000e+00</td>\n",
       "      <td>-9.805000e-01</td>\n",
       "      <td>0.000000e+00</td>\n",
       "    </tr>\n",
       "    <tr>\n",
       "      <th>25%</th>\n",
       "      <td>1.122360e+05</td>\n",
       "      <td>1.673801e+07</td>\n",
       "      <td>2.000000e+00</td>\n",
       "      <td>0.000000e+00</td>\n",
       "      <td>2.500000e+00</td>\n",
       "    </tr>\n",
       "    <tr>\n",
       "      <th>50%</th>\n",
       "      <td>2.188110e+05</td>\n",
       "      <td>3.508098e+07</td>\n",
       "      <td>2.000000e+00</td>\n",
       "      <td>0.000000e+00</td>\n",
       "      <td>2.500000e+00</td>\n",
       "    </tr>\n",
       "    <tr>\n",
       "      <th>75%</th>\n",
       "      <td>3.819180e+05</td>\n",
       "      <td>4.850945e+07</td>\n",
       "      <td>3.000000e+00</td>\n",
       "      <td>3.818000e-01</td>\n",
       "      <td>3.500000e+00</td>\n",
       "    </tr>\n",
       "    <tr>\n",
       "      <th>max</th>\n",
       "      <td>9.135790e+05</td>\n",
       "      <td>7.063000e+07</td>\n",
       "      <td>4.000000e+00</td>\n",
       "      <td>9.829000e-01</td>\n",
       "      <td>5.000000e+00</td>\n",
       "    </tr>\n",
       "  </tbody>\n",
       "</table>\n",
       "</div>"
      ],
      "text/plain": [
       "               user    message_id         label  Sentiment_Score  \\\n",
       "count  1.102239e+06  1.102239e+06  1.102239e+06     1.102239e+06   \n",
       "mean   2.584895e+05  3.395174e+07  2.237728e+00     9.941479e-02   \n",
       "std    1.985429e+05  1.870664e+07  1.082337e+00     3.587670e-01   \n",
       "min    2.000000e+00  4.074870e+05  0.000000e+00    -9.805000e-01   \n",
       "25%    1.122360e+05  1.673801e+07  2.000000e+00     0.000000e+00   \n",
       "50%    2.188110e+05  3.508098e+07  2.000000e+00     0.000000e+00   \n",
       "75%    3.819180e+05  4.850945e+07  3.000000e+00     3.818000e-01   \n",
       "max    9.135790e+05  7.063000e+07  4.000000e+00     9.829000e-01   \n",
       "\n",
       "       normalized_Sentiment_score  \n",
       "count                1.102239e+06  \n",
       "mean                 2.747130e+00  \n",
       "std                  8.959103e-01  \n",
       "min                  0.000000e+00  \n",
       "25%                  2.500000e+00  \n",
       "50%                  2.500000e+00  \n",
       "75%                  3.500000e+00  \n",
       "max                  5.000000e+00  "
      ]
     },
     "execution_count": 73,
     "metadata": {},
     "output_type": "execute_result"
    }
   ],
   "source": [
    "df2.describe()"
   ]
  },
  {
   "cell_type": "code",
   "execution_count": 74,
   "id": "70141ba6-4f48-457d-9d95-c24503ea66d2",
   "metadata": {
    "tags": []
   },
   "outputs": [
    {
     "data": {
      "image/png": "[encoded data removed]",
      "text/plain": [
       "<Figure size 600x300 with 1 Axes>"
      ]
     },
     "metadata": {},
     "output_type": "display_data"
    }
   ],
   "source": [
    "plot_labels(df2, label = \"label\")"
   ]
  },
  {
   "cell_type": "code",
   "execution_count": 75,
   "id": "82ca3bf4-7327-4908-a6c3-eb3f5d5a0d0f",
   "metadata": {
    "tags": []
   },
   "outputs": [
    {
     "data": {
      "text/plain": [
       "445101"
      ]
     },
     "execution_count": 75,
     "metadata": {},
     "output_type": "execute_result"
    }
   ],
   "source": [
    "len(df2[df2['label']==2])"
   ]
  },
  {
   "cell_type": "code",
   "execution_count": 76,
   "id": "9d783f84-b912-4e79-b8f9-ad74a7305295",
   "metadata": {
    "tags": []
   },
   "outputs": [
    {
     "data": {
      "text/plain": [
       "0     88312\n",
       "1    136991\n",
       "4    143813\n",
       "3    288022\n",
       "2    445101\n",
       "Name: label, dtype: int64"
      ]
     },
     "execution_count": 76,
     "metadata": {},
     "output_type": "execute_result"
    }
   ],
   "source": [
    "df2['label'].value_counts().sort_values()"
   ]
  },
  {
   "cell_type": "markdown",
   "id": "5c5fe5ad-f4c9-40cb-9533-7edac0ca738b",
   "metadata": {},
   "source": [
    "## 2. Dealing with imbalanced data"
   ]
  },
  {
   "cell_type": "code",
   "execution_count": 13,
   "id": "9e1cf6a3-eec4-4862-bca3-33220c4b9d83",
   "metadata": {
    "tags": []
   },
   "outputs": [
    {
     "ename": "NameError",
     "evalue": "name 'df2' is not defined",
     "output_type": "error",
     "traceback": [
      "\u001b[0;31m---------------------------------------------------------------------------\u001b[0m",
      "\u001b[0;31mNameError\u001b[0m                                 Traceback (most recent call last)",
      "Cell \u001b[0;32mIn[13], line 2\u001b[0m\n\u001b[1;32m      1\u001b[0m RANDOM_SEED \u001b[38;5;241m=\u001b[39m \u001b[38;5;241m42\u001b[39m\n\u001b[0;32m----> 2\u001b[0m label_count_0, label_count_1, label_count_4, label_count_3, label_count2 \u001b[38;5;241m=\u001b[39m \u001b[43mdf2\u001b[49m[\u001b[38;5;124m'\u001b[39m\u001b[38;5;124mlabel\u001b[39m\u001b[38;5;124m'\u001b[39m]\u001b[38;5;241m.\u001b[39mvalue_counts()\u001b[38;5;241m.\u001b[39msort_values()\n\u001b[1;32m      4\u001b[0m label_0 \u001b[38;5;241m=\u001b[39m df2[df2[\u001b[38;5;124m'\u001b[39m\u001b[38;5;124mlabel\u001b[39m\u001b[38;5;124m'\u001b[39m] \u001b[38;5;241m==\u001b[39m \u001b[38;5;241m0\u001b[39m]\n\u001b[1;32m      5\u001b[0m label_1 \u001b[38;5;241m=\u001b[39m df2[df2[\u001b[38;5;124m'\u001b[39m\u001b[38;5;124mlabel\u001b[39m\u001b[38;5;124m'\u001b[39m] \u001b[38;5;241m==\u001b[39m \u001b[38;5;241m1\u001b[39m]\n",
      "\u001b[0;31mNameError\u001b[0m: name 'df2' is not defined"
     ]
    }
   ],
   "source": [
    "RANDOM_SEED = 42\n",
    "label_count_0, label_count_1, label_count_4, label_count_3, label_count2 = df2['label'].value_counts().sort_values()\n",
    "\n",
    "label_0 = df2[df2['label'] == 0]\n",
    "label_1 = df2[df2['label'] == 1]\n",
    "label_2 = df2[df2['label'] == 2]\n",
    "label_3 = df2[df2['label'] == 3]\n",
    "label_4 = df2[df2['label'] == 4]\n",
    "\n",
    "print('Bad:', label_0.shape)\n",
    "print('Nay:', label_1.shape)\n",
    "print('Average:', label_2.shape)\n",
    "print('Good:', label_3.shape)\n",
    "print('Awesome:', label_4.shape)\n",
    "print('Nay-lowest-count:', label_count_0)\n",
    "\n",
    "### because label 0 is the lowest:\n",
    "label_1_under = label_1.sample(label_count_0, random_state = RANDOM_SEED)\n",
    "label_2_under = label_2.sample(label_count_0, random_state = RANDOM_SEED)\n",
    "label_3_under = label_3.sample(label_count_0, random_state = RANDOM_SEED)\n",
    "label_4_under = label_4.sample(label_count_0, random_state = RANDOM_SEED)\n",
    "\n",
    "cleaned_df = pd.concat([label_0, label_1_under, label_2_under, label_3_under, label_4_under], axis = 0)"
   ]
  },
  {
   "cell_type": "code",
   "execution_count": 81,
   "id": "24edbe0d-ef04-49c4-b9c0-f338a7c03b21",
   "metadata": {
    "tags": []
   },
   "outputs": [
    {
     "data": {
      "image/png": "[encoded data removed]",
      "text/plain": [
       "<Figure size 600x300 with 1 Axes>"
      ]
     },
     "metadata": {},
     "output_type": "display_data"
    },
    {
     "name": "stdout",
     "output_type": "stream",
     "text": [
      "88312\n",
      "88312\n",
      "88312\n",
      "88312\n",
      "88312\n"
     ]
    }
   ],
   "source": [
    "plot_labels(cleaned_df, label = \"label\")\n",
    "print(len(cleaned_df[cleaned_df['label']==0]))\n",
    "print(len(cleaned_df[cleaned_df['label']==1]))\n",
    "print(len(cleaned_df[cleaned_df['label']==2]))\n",
    "print(len(cleaned_df[cleaned_df['label']==3]))\n",
    "print(len(cleaned_df[cleaned_df['label']==4]))"
   ]
  },
  {
   "cell_type": "code",
   "execution_count": 85,
   "id": "f03853d0-7a67-4a87-bb10-362b64e59afc",
   "metadata": {
    "tags": []
   },
   "outputs": [
    {
     "data": {
      "text/html": [
       "<div>\n",
       "<style scoped>\n",
       "    .dataframe tbody tr th:only-of-type {\n",
       "        vertical-align: middle;\n",
       "    }\n",
       "\n",
       "    .dataframe tbody tr th {\n",
       "        vertical-align: top;\n",
       "    }\n",
       "\n",
       "    .dataframe thead th {\n",
       "        text-align: right;\n",
       "    }\n",
       "</style>\n",
       "<table border=\"1\" class=\"dataframe\">\n",
       "  <thead>\n",
       "    <tr style=\"text-align: right;\">\n",
       "      <th></th>\n",
       "      <th>symbol</th>\n",
       "      <th>message</th>\n",
       "      <th>datetime</th>\n",
       "      <th>user</th>\n",
       "      <th>message_id</th>\n",
       "      <th>Date</th>\n",
       "      <th>Time</th>\n",
       "      <th>label</th>\n",
       "      <th>Sentiment_Score</th>\n",
       "      <th>Sentiment</th>\n",
       "      <th>normalized_Sentiment_score</th>\n",
       "    </tr>\n",
       "  </thead>\n",
       "  <tbody>\n",
       "    <tr>\n",
       "      <th>2561123</th>\n",
       "      <td>NFLX</td>\n",
       "      <td>love nflx think take world terms broadcasting</td>\n",
       "      <td>2011-01-27 16:41:26</td>\n",
       "      <td>44301</td>\n",
       "      <td>2656651</td>\n",
       "      <td>2011-01-27</td>\n",
       "      <td>16:41:26</td>\n",
       "      <td>4</td>\n",
       "      <td>0.6369</td>\n",
       "      <td>Positive</td>\n",
       "      <td>4.00</td>\n",
       "    </tr>\n",
       "    <tr>\n",
       "      <th>658369</th>\n",
       "      <td>AAPL</td>\n",
       "      <td>aapl whatever saying holds true lucky high odds going time odds way</td>\n",
       "      <td>2016-12-30 20:00:47</td>\n",
       "      <td>270464</td>\n",
       "      <td>70592734</td>\n",
       "      <td>2016-12-30</td>\n",
       "      <td>20:00:47</td>\n",
       "      <td>4</td>\n",
       "      <td>0.6808</td>\n",
       "      <td>Positive</td>\n",
       "      <td>4.25</td>\n",
       "    </tr>\n",
       "    <tr>\n",
       "      <th>942124</th>\n",
       "      <td>AAPL</td>\n",
       "      <td>aapl best launch ever countries ever phone still hard get new product horizon built work</td>\n",
       "      <td>2014-12-22 15:22:00</td>\n",
       "      <td>209265</td>\n",
       "      <td>30536752</td>\n",
       "      <td>2014-12-22</td>\n",
       "      <td>15:22:00</td>\n",
       "      <td>4</td>\n",
       "      <td>0.5859</td>\n",
       "      <td>Positive</td>\n",
       "      <td>4.00</td>\n",
       "    </tr>\n",
       "    <tr>\n",
       "      <th>1769436</th>\n",
       "      <td>FB</td>\n",
       "      <td>fb bought 100 shares 98 14 sold 110 58 felt bad went 117 I glad cashed picking another good entry</td>\n",
       "      <td>2016-02-09 18:49:12</td>\n",
       "      <td>419232</td>\n",
       "      <td>49440933</td>\n",
       "      <td>2016-02-09</td>\n",
       "      <td>18:49:12</td>\n",
       "      <td>4</td>\n",
       "      <td>0.5574</td>\n",
       "      <td>Positive</td>\n",
       "      <td>4.00</td>\n",
       "    </tr>\n",
       "    <tr>\n",
       "      <th>1041205</th>\n",
       "      <td>AAPL</td>\n",
       "      <td>aapl positive net cash flow ppl buying investor would sell</td>\n",
       "      <td>2014-01-31 17:38:51</td>\n",
       "      <td>71738</td>\n",
       "      <td>19613831</td>\n",
       "      <td>2014-01-31</td>\n",
       "      <td>17:38:51</td>\n",
       "      <td>4</td>\n",
       "      <td>0.5574</td>\n",
       "      <td>Positive</td>\n",
       "      <td>4.00</td>\n",
       "    </tr>\n",
       "  </tbody>\n",
       "</table>\n",
       "</div>"
      ],
      "text/plain": [
       "        symbol  \\\n",
       "2561123   NFLX   \n",
       "658369    AAPL   \n",
       "942124    AAPL   \n",
       "1769436     FB   \n",
       "1041205   AAPL   \n",
       "\n",
       "                                                                                                   message  \\\n",
       "2561123                                                      love nflx think take world terms broadcasting   \n",
       "658369                                 aapl whatever saying holds true lucky high odds going time odds way   \n",
       "942124            aapl best launch ever countries ever phone still hard get new product horizon built work   \n",
       "1769436  fb bought 100 shares 98 14 sold 110 58 felt bad went 117 I glad cashed picking another good entry   \n",
       "1041205                                         aapl positive net cash flow ppl buying investor would sell   \n",
       "\n",
       "                    datetime    user  message_id       Date      Time  label  \\\n",
       "2561123  2011-01-27 16:41:26   44301     2656651 2011-01-27  16:41:26      4   \n",
       "658369   2016-12-30 20:00:47  270464    70592734 2016-12-30  20:00:47      4   \n",
       "942124   2014-12-22 15:22:00  209265    30536752 2014-12-22  15:22:00      4   \n",
       "1769436  2016-02-09 18:49:12  419232    49440933 2016-02-09  18:49:12      4   \n",
       "1041205  2014-01-31 17:38:51   71738    19613831 2014-01-31  17:38:51      4   \n",
       "\n",
       "         Sentiment_Score Sentiment  normalized_Sentiment_score  \n",
       "2561123           0.6369  Positive                        4.00  \n",
       "658369            0.6808  Positive                        4.25  \n",
       "942124            0.5859  Positive                        4.00  \n",
       "1769436           0.5574  Positive                        4.00  \n",
       "1041205           0.5574  Positive                        4.00  "
      ]
     },
     "execution_count": 85,
     "metadata": {},
     "output_type": "execute_result"
    }
   ],
   "source": [
    "cleaned_df.tail()"
   ]
  },
  {
   "cell_type": "code",
   "execution_count": 94,
   "id": "6e48d19a-edce-4b14-8313-0e46c669d161",
   "metadata": {
    "tags": []
   },
   "outputs": [],
   "source": [
    "# Define date range to remove\n",
    "start_date = '2009-01-01'\n",
    "end_date = '2014-12-31'\n",
    "\n",
    "#cleaned_df(cleaned_df['Date'] >= start_date)\n",
    "\n",
    "# Select rows where 'Date' is within the specified range\n",
    "df_train = cleaned_df[(cleaned_df['Date'] >= start_date) & (cleaned_df['Date'] <= end_date)]\n",
    "df_val = cleaned_df[~((cleaned_df['Date'] >= start_date) & (cleaned_df['Date'] <= end_date))]\n"
   ]
  },
  {
   "cell_type": "code",
   "execution_count": 92,
   "id": "f508c497-eacb-4e1f-a064-13969993c3e2",
   "metadata": {
    "tags": []
   },
   "outputs": [],
   "source": [
    "#df_train = cleaned_df.copy()"
   ]
  },
  {
   "cell_type": "code",
   "execution_count": 95,
   "id": "5bb465ee-1f35-4fad-b7dd-2823a3d6c359",
   "metadata": {
    "tags": []
   },
   "outputs": [
    {
     "data": {
      "text/plain": [
       "2.50    39416\n",
       "1.25    18312\n",
       "4.00    17513\n",
       "3.50    16610\n",
       "1.75    13515\n",
       "4.25    11023\n",
       "1.50    10830\n",
       "1.00     9908\n",
       "2.00     9286\n",
       "4.50     9002\n",
       "3.25     7780\n",
       "2.25     7517\n",
       "3.75     7078\n",
       "0.75     6320\n",
       "3.00     6012\n",
       "0.50     3777\n",
       "2.75     3502\n",
       "4.75     3005\n",
       "0.25      875\n",
       "5.00       48\n",
       "0.00       21\n",
       "Name: normalized_Sentiment_score, dtype: int64"
      ]
     },
     "execution_count": 95,
     "metadata": {},
     "output_type": "execute_result"
    }
   ],
   "source": [
    "## Checking the data samoples spread in normalized_sentiment_score\n",
    "df_train[\"normalized_Sentiment_score\"].value_counts(normalize=False)"
   ]
  },
  {
   "cell_type": "code",
   "execution_count": 96,
   "id": "bb42ac0d-228c-46a5-a596-87d01032a717",
   "metadata": {
    "tags": []
   },
   "outputs": [
    {
     "data": {
      "image/png": "[encoded data removed]",
      "text/plain": [
       "<Figure size 600x300 with 1 Axes>"
      ]
     },
     "metadata": {},
     "output_type": "display_data"
    },
    {
     "name": "stdout",
     "output_type": "stream",
     "text": [
      "39213\n",
      "41148\n",
      "39416\n",
      "40982\n",
      "40591\n"
     ]
    }
   ],
   "source": [
    "plot_labels(df_train, label = \"label\")\n",
    "print(len(df_train[df_train['label']==0]))\n",
    "print(len(df_train[df_train['label']==1]))\n",
    "print(len(df_train[df_train['label']==2]))\n",
    "print(len(df_train[df_train['label']==3]))\n",
    "print(len(df_train[df_train['label']==4]))"
   ]
  },
  {
   "cell_type": "code",
   "execution_count": 99,
   "id": "c4d3416a-9916-4a10-97a3-1ef077e7aba5",
   "metadata": {
    "tags": []
   },
   "outputs": [
    {
     "data": {
      "image/png": "[encoded data removed]",
      "text/plain": [
       "<Figure size 600x300 with 1 Axes>"
      ]
     },
     "metadata": {},
     "output_type": "display_data"
    },
    {
     "name": "stdout",
     "output_type": "stream",
     "text": [
      "49099\n",
      "47164\n",
      "48896\n",
      "47330\n",
      "47721\n"
     ]
    }
   ],
   "source": [
    "plot_labels(df_val, label = \"label\")\n",
    "print(len(df_val[df_val['label']==0]))\n",
    "print(len(df_val[df_val['label']==1]))\n",
    "print(len(df_val[df_val['label']==2]))\n",
    "print(len(df_val[df_val['label']==3]))\n",
    "print(len(df_val[df_val['label']==4]))"
   ]
  },
  {
   "cell_type": "code",
   "execution_count": null,
   "id": "ec3fb1fd-9901-4cf8-b3ea-ef39e1ac3075",
   "metadata": {},
   "outputs": [],
   "source": []
  },
  {
   "cell_type": "code",
   "execution_count": 97,
   "id": "7d397886-c38e-4f4b-bad3-8bd048304802",
   "metadata": {
    "tags": []
   },
   "outputs": [],
   "source": [
    "with open('011223_df_train_df_val_dataset_message_with_Normalised_Sentiment_Score', 'wb') as file:\n",
    "    pickle.dump((df_train, df_val), file)\n"
   ]
  },
  {
   "cell_type": "code",
   "execution_count": 98,
   "id": "176dc1bf-8e17-436a-bc66-20288b369be3",
   "metadata": {
    "tags": []
   },
   "outputs": [],
   "source": [
    "import pickle\n",
    "\n",
    "with open('011223_df_train_df_val_dataset_message_with_Normalised_Sentiment_Score', 'rb') as file:\n",
    "    df_train, df_val = pickle.load(file)"
   ]
  },
  {
   "cell_type": "markdown",
   "id": "a301ba31-86e4-4629-9a46-c57faeb6726b",
   "metadata": {},
   "source": [
    "## 3. Model building**\n",
    "\n",
    "Splitting balanced data into df_train, df_dev, df_test\n",
    "\n",
    "This is an important step of the model development process where data is separated into different subsets to train and evaluate the performance of machine learning models. \n",
    "\n",
    "Objectives:\n",
    "\n",
    "Function to perform the data split checks to ensure its balanced"
   ]
  },
  {
   "cell_type": "code",
   "execution_count": 1,
   "id": "a7d3dfca-c2e6-4f55-ba01-ccb9ddd9fb2c",
   "metadata": {
    "tags": []
   },
   "outputs": [],
   "source": [
    "import pickle\n",
    "\n",
    "with open('021223_Output_Combined_FAANG_percentage_2.2_w_sentiment_labels', 'rb') as file:\n",
    "    data = pickle.load(file)"
   ]
  },
  {
   "cell_type": "code",
   "execution_count": 2,
   "id": "be1310dd-ca34-41c6-bd90-5ddbafec824a",
   "metadata": {
    "tags": []
   },
   "outputs": [
    {
     "data": {
      "text/html": [
       "<div>\n",
       "<style scoped>\n",
       "    .dataframe tbody tr th:only-of-type {\n",
       "        vertical-align: middle;\n",
       "    }\n",
       "\n",
       "    .dataframe tbody tr th {\n",
       "        vertical-align: top;\n",
       "    }\n",
       "\n",
       "    .dataframe thead th {\n",
       "        text-align: right;\n",
       "    }\n",
       "</style>\n",
       "<table border=\"1\" class=\"dataframe\">\n",
       "  <thead>\n",
       "    <tr style=\"text-align: right;\">\n",
       "      <th></th>\n",
       "      <th>symbol</th>\n",
       "      <th>message</th>\n",
       "      <th>datetime</th>\n",
       "      <th>user</th>\n",
       "      <th>message_id</th>\n",
       "      <th>Date</th>\n",
       "      <th>Time</th>\n",
       "      <th>label</th>\n",
       "      <th>encoded_labels</th>\n",
       "      <th>Bearish</th>\n",
       "      <th>Nay</th>\n",
       "      <th>Neutral</th>\n",
       "      <th>Bullish</th>\n",
       "      <th>To the Moon!!</th>\n",
       "    </tr>\n",
       "  </thead>\n",
       "  <tbody>\n",
       "    <tr>\n",
       "      <th>0</th>\n",
       "      <td>AAPL</td>\n",
       "      <td>peak profit last 6 expired option alerts aapl ...</td>\n",
       "      <td>2020-07-19 09:49:35</td>\n",
       "      <td>1442893</td>\n",
       "      <td>229008387</td>\n",
       "      <td>2020-07-19</td>\n",
       "      <td>09:49:35</td>\n",
       "      <td>1</td>\n",
       "      <td>2</td>\n",
       "      <td>0.000034</td>\n",
       "      <td>0.000191</td>\n",
       "      <td>0.000602</td>\n",
       "      <td>0.998740</td>\n",
       "      <td>0.000433</td>\n",
       "    </tr>\n",
       "    <tr>\n",
       "      <th>1</th>\n",
       "      <td>AAPL</td>\n",
       "      <td>aapl jul 17 382 50 calls option volume 144 44 ...</td>\n",
       "      <td>2020-07-19 09:47:26</td>\n",
       "      <td>1442893</td>\n",
       "      <td>229008357</td>\n",
       "      <td>2020-07-19</td>\n",
       "      <td>09:47:26</td>\n",
       "      <td>1</td>\n",
       "      <td>2</td>\n",
       "      <td>0.999616</td>\n",
       "      <td>0.000251</td>\n",
       "      <td>0.000069</td>\n",
       "      <td>0.000046</td>\n",
       "      <td>0.000019</td>\n",
       "    </tr>\n",
       "    <tr>\n",
       "      <th>2</th>\n",
       "      <td>AAPL</td>\n",
       "      <td>tsla market true bubble territory profitable c...</td>\n",
       "      <td>2020-07-19 09:01:25</td>\n",
       "      <td>1115913</td>\n",
       "      <td>229007569</td>\n",
       "      <td>2020-07-19</td>\n",
       "      <td>09:01:25</td>\n",
       "      <td>1</td>\n",
       "      <td>2</td>\n",
       "      <td>0.000016</td>\n",
       "      <td>0.000021</td>\n",
       "      <td>0.000015</td>\n",
       "      <td>0.000268</td>\n",
       "      <td>0.999680</td>\n",
       "    </tr>\n",
       "    <tr>\n",
       "      <th>3</th>\n",
       "      <td>AAPL</td>\n",
       "      <td>aapl analyzed 26 analysts buy consensus 86 ana...</td>\n",
       "      <td>2020-07-19 08:13:00</td>\n",
       "      <td>47688</td>\n",
       "      <td>229006733</td>\n",
       "      <td>2020-07-19</td>\n",
       "      <td>08:13:00</td>\n",
       "      <td>1</td>\n",
       "      <td>2</td>\n",
       "      <td>0.000727</td>\n",
       "      <td>0.271107</td>\n",
       "      <td>0.650643</td>\n",
       "      <td>0.077305</td>\n",
       "      <td>0.000218</td>\n",
       "    </tr>\n",
       "    <tr>\n",
       "      <th>4</th>\n",
       "      <td>AAPL</td>\n",
       "      <td>aapl new article dogs dow august 4 adopt ignore</td>\n",
       "      <td>2020-07-19 07:54:05</td>\n",
       "      <td>1555408</td>\n",
       "      <td>229006403</td>\n",
       "      <td>2020-07-19</td>\n",
       "      <td>07:54:05</td>\n",
       "      <td>1</td>\n",
       "      <td>2</td>\n",
       "      <td>0.000508</td>\n",
       "      <td>0.998982</td>\n",
       "      <td>0.000354</td>\n",
       "      <td>0.000119</td>\n",
       "      <td>0.000037</td>\n",
       "    </tr>\n",
       "    <tr>\n",
       "      <th>...</th>\n",
       "      <td>...</td>\n",
       "      <td>...</td>\n",
       "      <td>...</td>\n",
       "      <td>...</td>\n",
       "      <td>...</td>\n",
       "      <td>...</td>\n",
       "      <td>...</td>\n",
       "      <td>...</td>\n",
       "      <td>...</td>\n",
       "      <td>...</td>\n",
       "      <td>...</td>\n",
       "      <td>...</td>\n",
       "      <td>...</td>\n",
       "      <td>...</td>\n",
       "    </tr>\n",
       "    <tr>\n",
       "      <th>2566821</th>\n",
       "      <td>NFLX</td>\n",
       "      <td>get long nflx stop 44 50</td>\n",
       "      <td>2009-09-22 12:21:48</td>\n",
       "      <td>78</td>\n",
       "      <td>591710</td>\n",
       "      <td>2009-09-22</td>\n",
       "      <td>12:21:48</td>\n",
       "      <td>0</td>\n",
       "      <td>1</td>\n",
       "      <td>0.000079</td>\n",
       "      <td>0.999566</td>\n",
       "      <td>0.000236</td>\n",
       "      <td>0.000070</td>\n",
       "      <td>0.000050</td>\n",
       "    </tr>\n",
       "    <tr>\n",
       "      <th>2566822</th>\n",
       "      <td>NFLX</td>\n",
       "      <td>nflx awards 1 mill better movie search engine ...</td>\n",
       "      <td>2009-09-21 17:44:20</td>\n",
       "      <td>384</td>\n",
       "      <td>589527</td>\n",
       "      <td>2009-09-21</td>\n",
       "      <td>17:44:20</td>\n",
       "      <td>0</td>\n",
       "      <td>1</td>\n",
       "      <td>0.000010</td>\n",
       "      <td>0.000029</td>\n",
       "      <td>0.000023</td>\n",
       "      <td>0.000652</td>\n",
       "      <td>0.999286</td>\n",
       "    </tr>\n",
       "    <tr>\n",
       "      <th>2566823</th>\n",
       "      <td>NFLX</td>\n",
       "      <td>39 mbt 47 swapped nflx</td>\n",
       "      <td>2009-09-21 15:48:19</td>\n",
       "      <td>78</td>\n",
       "      <td>588855</td>\n",
       "      <td>2009-09-21</td>\n",
       "      <td>15:48:19</td>\n",
       "      <td>0</td>\n",
       "      <td>1</td>\n",
       "      <td>0.000032</td>\n",
       "      <td>0.000056</td>\n",
       "      <td>0.999642</td>\n",
       "      <td>0.000220</td>\n",
       "      <td>0.000050</td>\n",
       "    </tr>\n",
       "    <tr>\n",
       "      <th>2566824</th>\n",
       "      <td>NFLX</td>\n",
       "      <td>long nflx</td>\n",
       "      <td>2009-09-21 15:39:57</td>\n",
       "      <td>78</td>\n",
       "      <td>588781</td>\n",
       "      <td>2009-09-21</td>\n",
       "      <td>15:39:57</td>\n",
       "      <td>0</td>\n",
       "      <td>1</td>\n",
       "      <td>0.000010</td>\n",
       "      <td>0.000020</td>\n",
       "      <td>0.999809</td>\n",
       "      <td>0.000126</td>\n",
       "      <td>0.000034</td>\n",
       "    </tr>\n",
       "    <tr>\n",
       "      <th>2566825</th>\n",
       "      <td>NFLX</td>\n",
       "      <td>youtube talks stream movies rentals goog appl ...</td>\n",
       "      <td>2009-09-02 20:25:14</td>\n",
       "      <td>581</td>\n",
       "      <td>536552</td>\n",
       "      <td>2009-09-02</td>\n",
       "      <td>20:25:14</td>\n",
       "      <td>-1</td>\n",
       "      <td>0</td>\n",
       "      <td>0.000012</td>\n",
       "      <td>0.000023</td>\n",
       "      <td>0.999814</td>\n",
       "      <td>0.000116</td>\n",
       "      <td>0.000036</td>\n",
       "    </tr>\n",
       "  </tbody>\n",
       "</table>\n",
       "<p>2566826 rows × 14 columns</p>\n",
       "</div>"
      ],
      "text/plain": [
       "        symbol                                            message  \\\n",
       "0         AAPL  peak profit last 6 expired option alerts aapl ...   \n",
       "1         AAPL  aapl jul 17 382 50 calls option volume 144 44 ...   \n",
       "2         AAPL  tsla market true bubble territory profitable c...   \n",
       "3         AAPL  aapl analyzed 26 analysts buy consensus 86 ana...   \n",
       "4         AAPL    aapl new article dogs dow august 4 adopt ignore   \n",
       "...        ...                                                ...   \n",
       "2566821   NFLX                           get long nflx stop 44 50   \n",
       "2566822   NFLX  nflx awards 1 mill better movie search engine ...   \n",
       "2566823   NFLX                             39 mbt 47 swapped nflx   \n",
       "2566824   NFLX                                          long nflx   \n",
       "2566825   NFLX  youtube talks stream movies rentals goog appl ...   \n",
       "\n",
       "                    datetime     user  message_id        Date      Time  \\\n",
       "0        2020-07-19 09:49:35  1442893   229008387  2020-07-19  09:49:35   \n",
       "1        2020-07-19 09:47:26  1442893   229008357  2020-07-19  09:47:26   \n",
       "2        2020-07-19 09:01:25  1115913   229007569  2020-07-19  09:01:25   \n",
       "3        2020-07-19 08:13:00    47688   229006733  2020-07-19  08:13:00   \n",
       "4        2020-07-19 07:54:05  1555408   229006403  2020-07-19  07:54:05   \n",
       "...                      ...      ...         ...         ...       ...   \n",
       "2566821  2009-09-22 12:21:48       78      591710  2009-09-22  12:21:48   \n",
       "2566822  2009-09-21 17:44:20      384      589527  2009-09-21  17:44:20   \n",
       "2566823  2009-09-21 15:48:19       78      588855  2009-09-21  15:48:19   \n",
       "2566824  2009-09-21 15:39:57       78      588781  2009-09-21  15:39:57   \n",
       "2566825  2009-09-02 20:25:14      581      536552  2009-09-02  20:25:14   \n",
       "\n",
       "         label  encoded_labels   Bearish       Nay   Neutral   Bullish  \\\n",
       "0            1               2  0.000034  0.000191  0.000602  0.998740   \n",
       "1            1               2  0.999616  0.000251  0.000069  0.000046   \n",
       "2            1               2  0.000016  0.000021  0.000015  0.000268   \n",
       "3            1               2  0.000727  0.271107  0.650643  0.077305   \n",
       "4            1               2  0.000508  0.998982  0.000354  0.000119   \n",
       "...        ...             ...       ...       ...       ...       ...   \n",
       "2566821      0               1  0.000079  0.999566  0.000236  0.000070   \n",
       "2566822      0               1  0.000010  0.000029  0.000023  0.000652   \n",
       "2566823      0               1  0.000032  0.000056  0.999642  0.000220   \n",
       "2566824      0               1  0.000010  0.000020  0.999809  0.000126   \n",
       "2566825     -1               0  0.000012  0.000023  0.999814  0.000116   \n",
       "\n",
       "         To the Moon!!  \n",
       "0             0.000433  \n",
       "1             0.000019  \n",
       "2             0.999680  \n",
       "3             0.000218  \n",
       "4             0.000037  \n",
       "...                ...  \n",
       "2566821       0.000050  \n",
       "2566822       0.999286  \n",
       "2566823       0.000050  \n",
       "2566824       0.000034  \n",
       "2566825       0.000036  \n",
       "\n",
       "[2566826 rows x 14 columns]"
      ]
     },
     "execution_count": 2,
     "metadata": {},
     "output_type": "execute_result"
    }
   ],
   "source": [
    "data"
   ]
  },
  {
   "cell_type": "code",
   "execution_count": 7,
   "id": "a76b19bb-86d1-48f8-b900-c08b1cc37246",
   "metadata": {
    "tags": []
   },
   "outputs": [],
   "source": [
    "# Define date range to remove\n",
    "start_date = '2017-01-01'\n",
    "end_date = '2020-12-31'\n",
    "\n",
    "\n",
    "# Convert the 'date' column to datetime\n",
    "data['Date'] = pd.to_datetime(data['Date'])\n",
    "\n",
    "# Convert strings to datetime\n",
    "start_date = pd.to_datetime(start_date)\n",
    "end_date = pd.to_datetime(end_date)\n",
    "\n",
    "# Remove rows within the specified date range, end data will be from 01 Jan 2009 to 31 Dec 2014\n",
    "data = data[~((data['Date'] >= start_date) & (data['Date'] <= end_date))]"
   ]
  },
  {
   "cell_type": "code",
   "execution_count": 8,
   "id": "438d03a8-0317-48fe-80e4-de48bbf75fda",
   "metadata": {},
   "outputs": [
    {
     "data": {
      "text/html": [
       "<div>\n",
       "<style scoped>\n",
       "    .dataframe tbody tr th:only-of-type {\n",
       "        vertical-align: middle;\n",
       "    }\n",
       "\n",
       "    .dataframe tbody tr th {\n",
       "        vertical-align: top;\n",
       "    }\n",
       "\n",
       "    .dataframe thead th {\n",
       "        text-align: right;\n",
       "    }\n",
       "</style>\n",
       "<table border=\"1\" class=\"dataframe\">\n",
       "  <thead>\n",
       "    <tr style=\"text-align: right;\">\n",
       "      <th></th>\n",
       "      <th>symbol</th>\n",
       "      <th>message</th>\n",
       "      <th>datetime</th>\n",
       "      <th>user</th>\n",
       "      <th>message_id</th>\n",
       "      <th>Date</th>\n",
       "      <th>Time</th>\n",
       "      <th>label</th>\n",
       "      <th>encoded_labels</th>\n",
       "      <th>Bearish</th>\n",
       "      <th>Nay</th>\n",
       "      <th>Neutral</th>\n",
       "      <th>Bullish</th>\n",
       "      <th>To the Moon!!</th>\n",
       "    </tr>\n",
       "  </thead>\n",
       "  <tbody>\n",
       "    <tr>\n",
       "      <th>658149</th>\n",
       "      <td>AAPL</td>\n",
       "      <td>amzn aapl nvda hope work otherwise 401k turn 101k bah dum chee</td>\n",
       "      <td>2016-12-31 23:44:47</td>\n",
       "      <td>786342</td>\n",
       "      <td>70629996</td>\n",
       "      <td>2016-12-31</td>\n",
       "      <td>23:44:47</td>\n",
       "      <td>0</td>\n",
       "      <td>1</td>\n",
       "      <td>0.000024</td>\n",
       "      <td>0.000178</td>\n",
       "      <td>0.000585</td>\n",
       "      <td>0.998890</td>\n",
       "      <td>0.000323</td>\n",
       "    </tr>\n",
       "    <tr>\n",
       "      <th>658150</th>\n",
       "      <td>AAPL</td>\n",
       "      <td>aapl apple confirms removal home button iphones coming 2017 appleinsider</td>\n",
       "      <td>2016-12-31 23:43:20</td>\n",
       "      <td>4553</td>\n",
       "      <td>70629981</td>\n",
       "      <td>2016-12-31</td>\n",
       "      <td>23:43:20</td>\n",
       "      <td>0</td>\n",
       "      <td>1</td>\n",
       "      <td>0.000011</td>\n",
       "      <td>0.000020</td>\n",
       "      <td>0.999847</td>\n",
       "      <td>0.000088</td>\n",
       "      <td>0.000034</td>\n",
       "    </tr>\n",
       "    <tr>\n",
       "      <th>658151</th>\n",
       "      <td>AAPL</td>\n",
       "      <td>aapl</td>\n",
       "      <td>2016-12-31 23:39:54</td>\n",
       "      <td>116603</td>\n",
       "      <td>70629921</td>\n",
       "      <td>2016-12-31</td>\n",
       "      <td>23:39:54</td>\n",
       "      <td>0</td>\n",
       "      <td>1</td>\n",
       "      <td>0.000014</td>\n",
       "      <td>0.000015</td>\n",
       "      <td>0.999806</td>\n",
       "      <td>0.000120</td>\n",
       "      <td>0.000045</td>\n",
       "    </tr>\n",
       "    <tr>\n",
       "      <th>658152</th>\n",
       "      <td>AAPL</td>\n",
       "      <td>aapl best wishes 2017</td>\n",
       "      <td>2016-12-31 23:37:51</td>\n",
       "      <td>422677</td>\n",
       "      <td>70629899</td>\n",
       "      <td>2016-12-31</td>\n",
       "      <td>23:37:51</td>\n",
       "      <td>0</td>\n",
       "      <td>1</td>\n",
       "      <td>0.000020</td>\n",
       "      <td>0.000041</td>\n",
       "      <td>0.000024</td>\n",
       "      <td>0.000413</td>\n",
       "      <td>0.999502</td>\n",
       "    </tr>\n",
       "    <tr>\n",
       "      <th>658153</th>\n",
       "      <td>AAPL</td>\n",
       "      <td>aapl bottrigger trend signal issued formal buy alert aapl although publication advanced buy sign</td>\n",
       "      <td>2016-12-31 23:20:30</td>\n",
       "      <td>783862</td>\n",
       "      <td>70629704</td>\n",
       "      <td>2016-12-31</td>\n",
       "      <td>23:20:30</td>\n",
       "      <td>0</td>\n",
       "      <td>1</td>\n",
       "      <td>0.000021</td>\n",
       "      <td>0.000170</td>\n",
       "      <td>0.000174</td>\n",
       "      <td>0.998129</td>\n",
       "      <td>0.001506</td>\n",
       "    </tr>\n",
       "    <tr>\n",
       "      <th>...</th>\n",
       "      <td>...</td>\n",
       "      <td>...</td>\n",
       "      <td>...</td>\n",
       "      <td>...</td>\n",
       "      <td>...</td>\n",
       "      <td>...</td>\n",
       "      <td>...</td>\n",
       "      <td>...</td>\n",
       "      <td>...</td>\n",
       "      <td>...</td>\n",
       "      <td>...</td>\n",
       "      <td>...</td>\n",
       "      <td>...</td>\n",
       "      <td>...</td>\n",
       "    </tr>\n",
       "    <tr>\n",
       "      <th>2566821</th>\n",
       "      <td>NFLX</td>\n",
       "      <td>get long nflx stop 44 50</td>\n",
       "      <td>2009-09-22 12:21:48</td>\n",
       "      <td>78</td>\n",
       "      <td>591710</td>\n",
       "      <td>2009-09-22</td>\n",
       "      <td>12:21:48</td>\n",
       "      <td>0</td>\n",
       "      <td>1</td>\n",
       "      <td>0.000079</td>\n",
       "      <td>0.999566</td>\n",
       "      <td>0.000236</td>\n",
       "      <td>0.000070</td>\n",
       "      <td>0.000050</td>\n",
       "    </tr>\n",
       "    <tr>\n",
       "      <th>2566822</th>\n",
       "      <td>NFLX</td>\n",
       "      <td>nflx awards 1 mill better movie search engine could amount beat gs algo 39</td>\n",
       "      <td>2009-09-21 17:44:20</td>\n",
       "      <td>384</td>\n",
       "      <td>589527</td>\n",
       "      <td>2009-09-21</td>\n",
       "      <td>17:44:20</td>\n",
       "      <td>0</td>\n",
       "      <td>1</td>\n",
       "      <td>0.000010</td>\n",
       "      <td>0.000029</td>\n",
       "      <td>0.000023</td>\n",
       "      <td>0.000652</td>\n",
       "      <td>0.999286</td>\n",
       "    </tr>\n",
       "    <tr>\n",
       "      <th>2566823</th>\n",
       "      <td>NFLX</td>\n",
       "      <td>39 mbt 47 swapped nflx</td>\n",
       "      <td>2009-09-21 15:48:19</td>\n",
       "      <td>78</td>\n",
       "      <td>588855</td>\n",
       "      <td>2009-09-21</td>\n",
       "      <td>15:48:19</td>\n",
       "      <td>0</td>\n",
       "      <td>1</td>\n",
       "      <td>0.000032</td>\n",
       "      <td>0.000056</td>\n",
       "      <td>0.999642</td>\n",
       "      <td>0.000220</td>\n",
       "      <td>0.000050</td>\n",
       "    </tr>\n",
       "    <tr>\n",
       "      <th>2566824</th>\n",
       "      <td>NFLX</td>\n",
       "      <td>long nflx</td>\n",
       "      <td>2009-09-21 15:39:57</td>\n",
       "      <td>78</td>\n",
       "      <td>588781</td>\n",
       "      <td>2009-09-21</td>\n",
       "      <td>15:39:57</td>\n",
       "      <td>0</td>\n",
       "      <td>1</td>\n",
       "      <td>0.000010</td>\n",
       "      <td>0.000020</td>\n",
       "      <td>0.999809</td>\n",
       "      <td>0.000126</td>\n",
       "      <td>0.000034</td>\n",
       "    </tr>\n",
       "    <tr>\n",
       "      <th>2566825</th>\n",
       "      <td>NFLX</td>\n",
       "      <td>youtube talks stream movies rentals goog appl nflx</td>\n",
       "      <td>2009-09-02 20:25:14</td>\n",
       "      <td>581</td>\n",
       "      <td>536552</td>\n",
       "      <td>2009-09-02</td>\n",
       "      <td>20:25:14</td>\n",
       "      <td>-1</td>\n",
       "      <td>0</td>\n",
       "      <td>0.000012</td>\n",
       "      <td>0.000023</td>\n",
       "      <td>0.999814</td>\n",
       "      <td>0.000116</td>\n",
       "      <td>0.000036</td>\n",
       "    </tr>\n",
       "  </tbody>\n",
       "</table>\n",
       "<p>1102239 rows × 14 columns</p>\n",
       "</div>"
      ],
      "text/plain": [
       "        symbol  \\\n",
       "658149    AAPL   \n",
       "658150    AAPL   \n",
       "658151    AAPL   \n",
       "658152    AAPL   \n",
       "658153    AAPL   \n",
       "...        ...   \n",
       "2566821   NFLX   \n",
       "2566822   NFLX   \n",
       "2566823   NFLX   \n",
       "2566824   NFLX   \n",
       "2566825   NFLX   \n",
       "\n",
       "                                                                                                  message  \\\n",
       "658149                                     amzn aapl nvda hope work otherwise 401k turn 101k bah dum chee   \n",
       "658150                           aapl apple confirms removal home button iphones coming 2017 appleinsider   \n",
       "658151                                                                                               aapl   \n",
       "658152                                                                              aapl best wishes 2017   \n",
       "658153   aapl bottrigger trend signal issued formal buy alert aapl although publication advanced buy sign   \n",
       "...                                                                                                   ...   \n",
       "2566821                                                                          get long nflx stop 44 50   \n",
       "2566822                        nflx awards 1 mill better movie search engine could amount beat gs algo 39   \n",
       "2566823                                                                            39 mbt 47 swapped nflx   \n",
       "2566824                                                                                         long nflx   \n",
       "2566825                                                youtube talks stream movies rentals goog appl nflx   \n",
       "\n",
       "                    datetime    user  message_id       Date      Time  label  \\\n",
       "658149   2016-12-31 23:44:47  786342    70629996 2016-12-31  23:44:47      0   \n",
       "658150   2016-12-31 23:43:20    4553    70629981 2016-12-31  23:43:20      0   \n",
       "658151   2016-12-31 23:39:54  116603    70629921 2016-12-31  23:39:54      0   \n",
       "658152   2016-12-31 23:37:51  422677    70629899 2016-12-31  23:37:51      0   \n",
       "658153   2016-12-31 23:20:30  783862    70629704 2016-12-31  23:20:30      0   \n",
       "...                      ...     ...         ...        ...       ...    ...   \n",
       "2566821  2009-09-22 12:21:48      78      591710 2009-09-22  12:21:48      0   \n",
       "2566822  2009-09-21 17:44:20     384      589527 2009-09-21  17:44:20      0   \n",
       "2566823  2009-09-21 15:48:19      78      588855 2009-09-21  15:48:19      0   \n",
       "2566824  2009-09-21 15:39:57      78      588781 2009-09-21  15:39:57      0   \n",
       "2566825  2009-09-02 20:25:14     581      536552 2009-09-02  20:25:14     -1   \n",
       "\n",
       "         encoded_labels   Bearish       Nay   Neutral   Bullish  To the Moon!!  \n",
       "658149                1  0.000024  0.000178  0.000585  0.998890       0.000323  \n",
       "658150                1  0.000011  0.000020  0.999847  0.000088       0.000034  \n",
       "658151                1  0.000014  0.000015  0.999806  0.000120       0.000045  \n",
       "658152                1  0.000020  0.000041  0.000024  0.000413       0.999502  \n",
       "658153                1  0.000021  0.000170  0.000174  0.998129       0.001506  \n",
       "...                 ...       ...       ...       ...       ...            ...  \n",
       "2566821               1  0.000079  0.999566  0.000236  0.000070       0.000050  \n",
       "2566822               1  0.000010  0.000029  0.000023  0.000652       0.999286  \n",
       "2566823               1  0.000032  0.000056  0.999642  0.000220       0.000050  \n",
       "2566824               1  0.000010  0.000020  0.999809  0.000126       0.000034  \n",
       "2566825               0  0.000012  0.000023  0.999814  0.000116       0.000036  \n",
       "\n",
       "[1102239 rows x 14 columns]"
      ]
     },
     "execution_count": 8,
     "metadata": {},
     "output_type": "execute_result"
    }
   ],
   "source": [
    "data"
   ]
  },
  {
   "cell_type": "code",
   "execution_count": 9,
   "id": "f8bb07a3-84b3-4ac2-8090-1aa8ff54845e",
   "metadata": {
    "tags": []
   },
   "outputs": [],
   "source": [
    "with open('021223_Message_w_label_2009_to_2016', 'wb') as file:\n",
    "    pickle.dump((data), file)\n"
   ]
  },
  {
   "cell_type": "code",
   "execution_count": null,
   "id": "82f457ca-cfb8-4fd4-9cb7-53ca196c3f1b",
   "metadata": {},
   "outputs": [],
   "source": []
  }
 ],
 "metadata": {
  "kernelspec": {
   "display_name": "tensorflow",
   "language": "python",
   "name": "tensorflow"
  },
  "language_info": {
   "codemirror_mode": {
    "name": "ipython",
    "version": 3
   },
   "file_extension": ".py",
   "mimetype": "text/x-python",
   "name": "python",
   "nbconvert_exporter": "python",
   "pygments_lexer": "ipython3",
   "version": "3.8.16"
  }
 },
 "nbformat": 4,
 "nbformat_minor": 5
}
